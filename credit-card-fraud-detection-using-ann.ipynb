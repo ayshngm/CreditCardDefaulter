{
 "cells": [
  {
   "cell_type": "code",
   "execution_count": 1,
   "id": "592fb795",
   "metadata": {
    "_cell_guid": "b1076dfc-b9ad-4769-8c92-a6c4dae69d19",
    "_uuid": "8f2839f25d086af736a60e9eeb907d3b93b6e0e5",
    "execution": {
     "iopub.execute_input": "2022-08-27T19:47:03.036974Z",
     "iopub.status.busy": "2022-08-27T19:47:03.036517Z",
     "iopub.status.idle": "2022-08-27T19:47:03.057503Z",
     "shell.execute_reply": "2022-08-27T19:47:03.056330Z"
    },
    "papermill": {
     "duration": 0.032491,
     "end_time": "2022-08-27T19:47:03.060368",
     "exception": false,
     "start_time": "2022-08-27T19:47:03.027877",
     "status": "completed"
    },
    "tags": []
   },
   "outputs": [
    {
     "name": "stdout",
     "output_type": "stream",
     "text": [
      "/kaggle/input/creditcardfraud/creditcard.csv\n"
     ]
    }
   ],
   "source": [
    "# This Python 3 environment comes with many helpful analytics libraries installed\n",
    "# It is defined by the kaggle/python Docker image: https://github.com/kaggle/docker-python\n",
    "# For example, here's several helpful packages to load\n",
    "\n",
    "import numpy as np # linear algebra\n",
    "import pandas as pd # data processing, CSV file I/O (e.g. pd.read_csv)\n",
    "\n",
    "# Input data files are available in the read-only \"../input/\" directory\n",
    "# For example, running this (by clicking run or pressing Shift+Enter) will list all files under the input directory\n",
    "\n",
    "import os\n",
    "for dirname, _, filenames in os.walk('/kaggle/input'):\n",
    "    for filename in filenames:\n",
    "        print(os.path.join(dirname, filename))\n",
    "\n",
    "# You can write up to 20GB to the current directory (/kaggle/working/) that gets preserved as output when you create a version using \"Save & Run All\" \n",
    "# You can also write temporary files to /kaggle/temp/, but they won't be saved outside of the current session"
   ]
  },
  {
   "cell_type": "code",
   "execution_count": 2,
   "id": "54c2740e",
   "metadata": {
    "execution": {
     "iopub.execute_input": "2022-08-27T19:47:03.073490Z",
     "iopub.status.busy": "2022-08-27T19:47:03.072771Z",
     "iopub.status.idle": "2022-08-27T19:47:03.078806Z",
     "shell.execute_reply": "2022-08-27T19:47:03.077988Z"
    },
    "papermill": {
     "duration": 0.014964,
     "end_time": "2022-08-27T19:47:03.081016",
     "exception": false,
     "start_time": "2022-08-27T19:47:03.066052",
     "status": "completed"
    },
    "tags": []
   },
   "outputs": [],
   "source": [
    "import pandas as pd\n",
    "import matplotlib.pyplot as plt\n",
    "import numpy as np\n",
    "\n",
    "%matplotlib inline"
   ]
  },
  {
   "cell_type": "code",
   "execution_count": 3,
   "id": "bcad1635",
   "metadata": {
    "execution": {
     "iopub.execute_input": "2022-08-27T19:47:03.093890Z",
     "iopub.status.busy": "2022-08-27T19:47:03.093223Z",
     "iopub.status.idle": "2022-08-27T19:47:07.406547Z",
     "shell.execute_reply": "2022-08-27T19:47:07.405141Z"
    },
    "papermill": {
     "duration": 4.322568,
     "end_time": "2022-08-27T19:47:07.409108",
     "exception": false,
     "start_time": "2022-08-27T19:47:03.086540",
     "status": "completed"
    },
    "tags": []
   },
   "outputs": [
    {
     "data": {
      "text/html": [
       "<div>\n",
       "<style scoped>\n",
       "    .dataframe tbody tr th:only-of-type {\n",
       "        vertical-align: middle;\n",
       "    }\n",
       "\n",
       "    .dataframe tbody tr th {\n",
       "        vertical-align: top;\n",
       "    }\n",
       "\n",
       "    .dataframe thead th {\n",
       "        text-align: right;\n",
       "    }\n",
       "</style>\n",
       "<table border=\"1\" class=\"dataframe\">\n",
       "  <thead>\n",
       "    <tr style=\"text-align: right;\">\n",
       "      <th></th>\n",
       "      <th>Time</th>\n",
       "      <th>V1</th>\n",
       "      <th>V2</th>\n",
       "      <th>V3</th>\n",
       "      <th>V4</th>\n",
       "      <th>V5</th>\n",
       "      <th>V6</th>\n",
       "      <th>V7</th>\n",
       "      <th>V8</th>\n",
       "      <th>V9</th>\n",
       "      <th>...</th>\n",
       "      <th>V21</th>\n",
       "      <th>V22</th>\n",
       "      <th>V23</th>\n",
       "      <th>V24</th>\n",
       "      <th>V25</th>\n",
       "      <th>V26</th>\n",
       "      <th>V27</th>\n",
       "      <th>V28</th>\n",
       "      <th>Amount</th>\n",
       "      <th>Class</th>\n",
       "    </tr>\n",
       "  </thead>\n",
       "  <tbody>\n",
       "    <tr>\n",
       "      <th>0</th>\n",
       "      <td>0.0</td>\n",
       "      <td>-1.359807</td>\n",
       "      <td>-0.072781</td>\n",
       "      <td>2.536347</td>\n",
       "      <td>1.378155</td>\n",
       "      <td>-0.338321</td>\n",
       "      <td>0.462388</td>\n",
       "      <td>0.239599</td>\n",
       "      <td>0.098698</td>\n",
       "      <td>0.363787</td>\n",
       "      <td>...</td>\n",
       "      <td>-0.018307</td>\n",
       "      <td>0.277838</td>\n",
       "      <td>-0.110474</td>\n",
       "      <td>0.066928</td>\n",
       "      <td>0.128539</td>\n",
       "      <td>-0.189115</td>\n",
       "      <td>0.133558</td>\n",
       "      <td>-0.021053</td>\n",
       "      <td>149.62</td>\n",
       "      <td>0</td>\n",
       "    </tr>\n",
       "    <tr>\n",
       "      <th>1</th>\n",
       "      <td>0.0</td>\n",
       "      <td>1.191857</td>\n",
       "      <td>0.266151</td>\n",
       "      <td>0.166480</td>\n",
       "      <td>0.448154</td>\n",
       "      <td>0.060018</td>\n",
       "      <td>-0.082361</td>\n",
       "      <td>-0.078803</td>\n",
       "      <td>0.085102</td>\n",
       "      <td>-0.255425</td>\n",
       "      <td>...</td>\n",
       "      <td>-0.225775</td>\n",
       "      <td>-0.638672</td>\n",
       "      <td>0.101288</td>\n",
       "      <td>-0.339846</td>\n",
       "      <td>0.167170</td>\n",
       "      <td>0.125895</td>\n",
       "      <td>-0.008983</td>\n",
       "      <td>0.014724</td>\n",
       "      <td>2.69</td>\n",
       "      <td>0</td>\n",
       "    </tr>\n",
       "    <tr>\n",
       "      <th>2</th>\n",
       "      <td>1.0</td>\n",
       "      <td>-1.358354</td>\n",
       "      <td>-1.340163</td>\n",
       "      <td>1.773209</td>\n",
       "      <td>0.379780</td>\n",
       "      <td>-0.503198</td>\n",
       "      <td>1.800499</td>\n",
       "      <td>0.791461</td>\n",
       "      <td>0.247676</td>\n",
       "      <td>-1.514654</td>\n",
       "      <td>...</td>\n",
       "      <td>0.247998</td>\n",
       "      <td>0.771679</td>\n",
       "      <td>0.909412</td>\n",
       "      <td>-0.689281</td>\n",
       "      <td>-0.327642</td>\n",
       "      <td>-0.139097</td>\n",
       "      <td>-0.055353</td>\n",
       "      <td>-0.059752</td>\n",
       "      <td>378.66</td>\n",
       "      <td>0</td>\n",
       "    </tr>\n",
       "    <tr>\n",
       "      <th>3</th>\n",
       "      <td>1.0</td>\n",
       "      <td>-0.966272</td>\n",
       "      <td>-0.185226</td>\n",
       "      <td>1.792993</td>\n",
       "      <td>-0.863291</td>\n",
       "      <td>-0.010309</td>\n",
       "      <td>1.247203</td>\n",
       "      <td>0.237609</td>\n",
       "      <td>0.377436</td>\n",
       "      <td>-1.387024</td>\n",
       "      <td>...</td>\n",
       "      <td>-0.108300</td>\n",
       "      <td>0.005274</td>\n",
       "      <td>-0.190321</td>\n",
       "      <td>-1.175575</td>\n",
       "      <td>0.647376</td>\n",
       "      <td>-0.221929</td>\n",
       "      <td>0.062723</td>\n",
       "      <td>0.061458</td>\n",
       "      <td>123.50</td>\n",
       "      <td>0</td>\n",
       "    </tr>\n",
       "    <tr>\n",
       "      <th>4</th>\n",
       "      <td>2.0</td>\n",
       "      <td>-1.158233</td>\n",
       "      <td>0.877737</td>\n",
       "      <td>1.548718</td>\n",
       "      <td>0.403034</td>\n",
       "      <td>-0.407193</td>\n",
       "      <td>0.095921</td>\n",
       "      <td>0.592941</td>\n",
       "      <td>-0.270533</td>\n",
       "      <td>0.817739</td>\n",
       "      <td>...</td>\n",
       "      <td>-0.009431</td>\n",
       "      <td>0.798278</td>\n",
       "      <td>-0.137458</td>\n",
       "      <td>0.141267</td>\n",
       "      <td>-0.206010</td>\n",
       "      <td>0.502292</td>\n",
       "      <td>0.219422</td>\n",
       "      <td>0.215153</td>\n",
       "      <td>69.99</td>\n",
       "      <td>0</td>\n",
       "    </tr>\n",
       "  </tbody>\n",
       "</table>\n",
       "<p>5 rows × 31 columns</p>\n",
       "</div>"
      ],
      "text/plain": [
       "   Time        V1        V2        V3        V4        V5        V6        V7  \\\n",
       "0   0.0 -1.359807 -0.072781  2.536347  1.378155 -0.338321  0.462388  0.239599   \n",
       "1   0.0  1.191857  0.266151  0.166480  0.448154  0.060018 -0.082361 -0.078803   \n",
       "2   1.0 -1.358354 -1.340163  1.773209  0.379780 -0.503198  1.800499  0.791461   \n",
       "3   1.0 -0.966272 -0.185226  1.792993 -0.863291 -0.010309  1.247203  0.237609   \n",
       "4   2.0 -1.158233  0.877737  1.548718  0.403034 -0.407193  0.095921  0.592941   \n",
       "\n",
       "         V8        V9  ...       V21       V22       V23       V24       V25  \\\n",
       "0  0.098698  0.363787  ... -0.018307  0.277838 -0.110474  0.066928  0.128539   \n",
       "1  0.085102 -0.255425  ... -0.225775 -0.638672  0.101288 -0.339846  0.167170   \n",
       "2  0.247676 -1.514654  ...  0.247998  0.771679  0.909412 -0.689281 -0.327642   \n",
       "3  0.377436 -1.387024  ... -0.108300  0.005274 -0.190321 -1.175575  0.647376   \n",
       "4 -0.270533  0.817739  ... -0.009431  0.798278 -0.137458  0.141267 -0.206010   \n",
       "\n",
       "        V26       V27       V28  Amount  Class  \n",
       "0 -0.189115  0.133558 -0.021053  149.62      0  \n",
       "1  0.125895 -0.008983  0.014724    2.69      0  \n",
       "2 -0.139097 -0.055353 -0.059752  378.66      0  \n",
       "3 -0.221929  0.062723  0.061458  123.50      0  \n",
       "4  0.502292  0.219422  0.215153   69.99      0  \n",
       "\n",
       "[5 rows x 31 columns]"
      ]
     },
     "execution_count": 3,
     "metadata": {},
     "output_type": "execute_result"
    }
   ],
   "source": [
    "data = pd.read_csv(\"/kaggle/input/creditcardfraud/creditcard.csv\")\n",
    "data.head()"
   ]
  },
  {
   "cell_type": "code",
   "execution_count": 4,
   "id": "97eedced",
   "metadata": {
    "execution": {
     "iopub.execute_input": "2022-08-27T19:47:07.423380Z",
     "iopub.status.busy": "2022-08-27T19:47:07.422930Z",
     "iopub.status.idle": "2022-08-27T19:47:07.655184Z",
     "shell.execute_reply": "2022-08-27T19:47:07.653804Z"
    },
    "papermill": {
     "duration": 0.243023,
     "end_time": "2022-08-27T19:47:07.658645",
     "exception": false,
     "start_time": "2022-08-27T19:47:07.415622",
     "status": "completed"
    },
    "tags": []
   },
   "outputs": [
    {
     "data": {
      "text/plain": [
       "Text(0, 0.5, 'Frequency')"
      ]
     },
     "execution_count": 4,
     "metadata": {},
     "output_type": "execute_result"
    },
    {
     "data": {
      "image/png": "[encoded data removed]",
      "text/plain": [
       "<Figure size 432x288 with 1 Axes>"
      ]
     },
     "metadata": {
      "needs_background": "light"
     },
     "output_type": "display_data"
    }
   ],
   "source": [
    "count_classes = pd.value_counts(data['Class'], sort = True).sort_index()\n",
    "count_classes.plot(kind = 'bar')\n",
    "plt.title(\"Fraud class histogram\")\n",
    "plt.xlabel(\"Class\")\n",
    "plt.ylabel(\"Frequency\")"
   ]
  },
  {
   "cell_type": "code",
   "execution_count": 5,
   "id": "cd5460fb",
   "metadata": {
    "execution": {
     "iopub.execute_input": "2022-08-27T19:47:07.674835Z",
     "iopub.status.busy": "2022-08-27T19:47:07.674436Z",
     "iopub.status.idle": "2022-08-27T19:47:08.810508Z",
     "shell.execute_reply": "2022-08-27T19:47:08.809327Z"
    },
    "papermill": {
     "duration": 1.146967,
     "end_time": "2022-08-27T19:47:08.812984",
     "exception": false,
     "start_time": "2022-08-27T19:47:07.666017",
     "status": "completed"
    },
    "tags": []
   },
   "outputs": [
    {
     "data": {
      "text/html": [
       "<div>\n",
       "<style scoped>\n",
       "    .dataframe tbody tr th:only-of-type {\n",
       "        vertical-align: middle;\n",
       "    }\n",
       "\n",
       "    .dataframe tbody tr th {\n",
       "        vertical-align: top;\n",
       "    }\n",
       "\n",
       "    .dataframe thead th {\n",
       "        text-align: right;\n",
       "    }\n",
       "</style>\n",
       "<table border=\"1\" class=\"dataframe\">\n",
       "  <thead>\n",
       "    <tr style=\"text-align: right;\">\n",
       "      <th></th>\n",
       "      <th>V1</th>\n",
       "      <th>V2</th>\n",
       "      <th>V3</th>\n",
       "      <th>V4</th>\n",
       "      <th>V5</th>\n",
       "      <th>V6</th>\n",
       "      <th>V7</th>\n",
       "      <th>V8</th>\n",
       "      <th>V9</th>\n",
       "      <th>V10</th>\n",
       "      <th>...</th>\n",
       "      <th>V20</th>\n",
       "      <th>V21</th>\n",
       "      <th>V22</th>\n",
       "      <th>V23</th>\n",
       "      <th>V24</th>\n",
       "      <th>V25</th>\n",
       "      <th>V26</th>\n",
       "      <th>V27</th>\n",
       "      <th>V28</th>\n",
       "      <th>Class</th>\n",
       "    </tr>\n",
       "  </thead>\n",
       "  <tbody>\n",
       "    <tr>\n",
       "      <th>0</th>\n",
       "      <td>-1.359807</td>\n",
       "      <td>-0.072781</td>\n",
       "      <td>2.536347</td>\n",
       "      <td>1.378155</td>\n",
       "      <td>-0.338321</td>\n",
       "      <td>0.462388</td>\n",
       "      <td>0.239599</td>\n",
       "      <td>0.098698</td>\n",
       "      <td>0.363787</td>\n",
       "      <td>0.090794</td>\n",
       "      <td>...</td>\n",
       "      <td>0.251412</td>\n",
       "      <td>-0.018307</td>\n",
       "      <td>0.277838</td>\n",
       "      <td>-0.110474</td>\n",
       "      <td>0.066928</td>\n",
       "      <td>0.128539</td>\n",
       "      <td>-0.189115</td>\n",
       "      <td>0.133558</td>\n",
       "      <td>-0.021053</td>\n",
       "      <td>0</td>\n",
       "    </tr>\n",
       "    <tr>\n",
       "      <th>1</th>\n",
       "      <td>1.191857</td>\n",
       "      <td>0.266151</td>\n",
       "      <td>0.166480</td>\n",
       "      <td>0.448154</td>\n",
       "      <td>0.060018</td>\n",
       "      <td>-0.082361</td>\n",
       "      <td>-0.078803</td>\n",
       "      <td>0.085102</td>\n",
       "      <td>-0.255425</td>\n",
       "      <td>-0.166974</td>\n",
       "      <td>...</td>\n",
       "      <td>-0.069083</td>\n",
       "      <td>-0.225775</td>\n",
       "      <td>-0.638672</td>\n",
       "      <td>0.101288</td>\n",
       "      <td>-0.339846</td>\n",
       "      <td>0.167170</td>\n",
       "      <td>0.125895</td>\n",
       "      <td>-0.008983</td>\n",
       "      <td>0.014724</td>\n",
       "      <td>0</td>\n",
       "    </tr>\n",
       "    <tr>\n",
       "      <th>2</th>\n",
       "      <td>-1.358354</td>\n",
       "      <td>-1.340163</td>\n",
       "      <td>1.773209</td>\n",
       "      <td>0.379780</td>\n",
       "      <td>-0.503198</td>\n",
       "      <td>1.800499</td>\n",
       "      <td>0.791461</td>\n",
       "      <td>0.247676</td>\n",
       "      <td>-1.514654</td>\n",
       "      <td>0.207643</td>\n",
       "      <td>...</td>\n",
       "      <td>0.524980</td>\n",
       "      <td>0.247998</td>\n",
       "      <td>0.771679</td>\n",
       "      <td>0.909412</td>\n",
       "      <td>-0.689281</td>\n",
       "      <td>-0.327642</td>\n",
       "      <td>-0.139097</td>\n",
       "      <td>-0.055353</td>\n",
       "      <td>-0.059752</td>\n",
       "      <td>0</td>\n",
       "    </tr>\n",
       "    <tr>\n",
       "      <th>3</th>\n",
       "      <td>-0.966272</td>\n",
       "      <td>-0.185226</td>\n",
       "      <td>1.792993</td>\n",
       "      <td>-0.863291</td>\n",
       "      <td>-0.010309</td>\n",
       "      <td>1.247203</td>\n",
       "      <td>0.237609</td>\n",
       "      <td>0.377436</td>\n",
       "      <td>-1.387024</td>\n",
       "      <td>-0.054952</td>\n",
       "      <td>...</td>\n",
       "      <td>-0.208038</td>\n",
       "      <td>-0.108300</td>\n",
       "      <td>0.005274</td>\n",
       "      <td>-0.190321</td>\n",
       "      <td>-1.175575</td>\n",
       "      <td>0.647376</td>\n",
       "      <td>-0.221929</td>\n",
       "      <td>0.062723</td>\n",
       "      <td>0.061458</td>\n",
       "      <td>0</td>\n",
       "    </tr>\n",
       "    <tr>\n",
       "      <th>4</th>\n",
       "      <td>-1.158233</td>\n",
       "      <td>0.877737</td>\n",
       "      <td>1.548718</td>\n",
       "      <td>0.403034</td>\n",
       "      <td>-0.407193</td>\n",
       "      <td>0.095921</td>\n",
       "      <td>0.592941</td>\n",
       "      <td>-0.270533</td>\n",
       "      <td>0.817739</td>\n",
       "      <td>0.753074</td>\n",
       "      <td>...</td>\n",
       "      <td>0.408542</td>\n",
       "      <td>-0.009431</td>\n",
       "      <td>0.798278</td>\n",
       "      <td>-0.137458</td>\n",
       "      <td>0.141267</td>\n",
       "      <td>-0.206010</td>\n",
       "      <td>0.502292</td>\n",
       "      <td>0.219422</td>\n",
       "      <td>0.215153</td>\n",
       "      <td>0</td>\n",
       "    </tr>\n",
       "  </tbody>\n",
       "</table>\n",
       "<p>5 rows × 29 columns</p>\n",
       "</div>"
      ],
      "text/plain": [
       "         V1        V2        V3        V4        V5        V6        V7  \\\n",
       "0 -1.359807 -0.072781  2.536347  1.378155 -0.338321  0.462388  0.239599   \n",
       "1  1.191857  0.266151  0.166480  0.448154  0.060018 -0.082361 -0.078803   \n",
       "2 -1.358354 -1.340163  1.773209  0.379780 -0.503198  1.800499  0.791461   \n",
       "3 -0.966272 -0.185226  1.792993 -0.863291 -0.010309  1.247203  0.237609   \n",
       "4 -1.158233  0.877737  1.548718  0.403034 -0.407193  0.095921  0.592941   \n",
       "\n",
       "         V8        V9       V10  ...       V20       V21       V22       V23  \\\n",
       "0  0.098698  0.363787  0.090794  ...  0.251412 -0.018307  0.277838 -0.110474   \n",
       "1  0.085102 -0.255425 -0.166974  ... -0.069083 -0.225775 -0.638672  0.101288   \n",
       "2  0.247676 -1.514654  0.207643  ...  0.524980  0.247998  0.771679  0.909412   \n",
       "3  0.377436 -1.387024 -0.054952  ... -0.208038 -0.108300  0.005274 -0.190321   \n",
       "4 -0.270533  0.817739  0.753074  ...  0.408542 -0.009431  0.798278 -0.137458   \n",
       "\n",
       "        V24       V25       V26       V27       V28  Class  \n",
       "0  0.066928  0.128539 -0.189115  0.133558 -0.021053      0  \n",
       "1 -0.339846  0.167170  0.125895 -0.008983  0.014724      0  \n",
       "2 -0.689281 -0.327642 -0.139097 -0.055353 -0.059752      0  \n",
       "3 -1.175575  0.647376 -0.221929  0.062723  0.061458      0  \n",
       "4  0.141267 -0.206010  0.502292  0.219422  0.215153      0  \n",
       "\n",
       "[5 rows x 29 columns]"
      ]
     },
     "execution_count": 5,
     "metadata": {},
     "output_type": "execute_result"
    }
   ],
   "source": [
    "from sklearn.preprocessing import StandardScaler\n",
    "\n",
    "\n",
    "data = data.drop(['Time','Amount'],axis=1)\n",
    "data.head()"
   ]
  },
  {
   "cell_type": "code",
   "execution_count": 6,
   "id": "1017a52d",
   "metadata": {
    "execution": {
     "iopub.execute_input": "2022-08-27T19:47:08.827896Z",
     "iopub.status.busy": "2022-08-27T19:47:08.827464Z",
     "iopub.status.idle": "2022-08-27T19:47:08.865282Z",
     "shell.execute_reply": "2022-08-27T19:47:08.864286Z"
    },
    "papermill": {
     "duration": 0.048212,
     "end_time": "2022-08-27T19:47:08.867887",
     "exception": false,
     "start_time": "2022-08-27T19:47:08.819675",
     "status": "completed"
    },
    "tags": []
   },
   "outputs": [],
   "source": [
    "X = data.iloc[:, data.columns != 'Class']\n",
    "y = data.iloc[:, data.columns == 'Class']"
   ]
  },
  {
   "cell_type": "code",
   "execution_count": 7,
   "id": "2bb79f1e",
   "metadata": {
    "execution": {
     "iopub.execute_input": "2022-08-27T19:47:08.882974Z",
     "iopub.status.busy": "2022-08-27T19:47:08.882578Z",
     "iopub.status.idle": "2022-08-27T19:47:08.982448Z",
     "shell.execute_reply": "2022-08-27T19:47:08.981047Z"
    },
    "papermill": {
     "duration": 0.111029,
     "end_time": "2022-08-27T19:47:08.985602",
     "exception": false,
     "start_time": "2022-08-27T19:47:08.874573",
     "status": "completed"
    },
    "tags": []
   },
   "outputs": [
    {
     "name": "stdout",
     "output_type": "stream",
     "text": [
      "Percentage of normal transactions:  0.5\n",
      "Percentage of fraud transactions:  0.5\n",
      "Total number of transactions in resampled data:  984\n"
     ]
    }
   ],
   "source": [
    "# Number of data points in the minority class\n",
    "number_records_fraud = len(data[data.Class == 1])\n",
    "fraud_indices = np.array(data[data.Class == 1].index)\n",
    "\n",
    "# Picking the indices of the normal classes\n",
    "normal_indices = data[data.Class == 0].index\n",
    "\n",
    "# Out of the indices we picked, randomly select \"x\" number (number_records_fraud)\n",
    "random_normal_indices = np.random.choice(normal_indices, number_records_fraud, replace = False)\n",
    "random_normal_indices = np.array(random_normal_indices)\n",
    "\n",
    "# Appending the 2 indices\n",
    "under_sample_indices = np.concatenate([fraud_indices,random_normal_indices])\n",
    "\n",
    "# Under sample dataset\n",
    "under_sample_data = data.iloc[under_sample_indices,:]\n",
    "\n",
    "X_undersample = under_sample_data.iloc[:, under_sample_data.columns != 'Class']\n",
    "y_undersample = under_sample_data.iloc[:, under_sample_data.columns == 'Class']\n",
    "\n",
    "# Showing ratio\n",
    "print(\"Percentage of normal transactions: \", len(under_sample_data[under_sample_data.Class == 0])/len(under_sample_data))\n",
    "print(\"Percentage of fraud transactions: \", len(under_sample_data[under_sample_data.Class == 1])/len(under_sample_data))\n",
    "print(\"Total number of transactions in resampled data: \", len(under_sample_data))"
   ]
  },
  {
   "cell_type": "code",
   "execution_count": 8,
   "id": "7eeee3c3",
   "metadata": {
    "execution": {
     "iopub.execute_input": "2022-08-27T19:47:09.001081Z",
     "iopub.status.busy": "2022-08-27T19:47:09.000659Z",
     "iopub.status.idle": "2022-08-27T19:47:09.021883Z",
     "shell.execute_reply": "2022-08-27T19:47:09.020753Z"
    },
    "papermill": {
     "duration": 0.031665,
     "end_time": "2022-08-27T19:47:09.024465",
     "exception": false,
     "start_time": "2022-08-27T19:47:08.992800",
     "status": "completed"
    },
    "tags": []
   },
   "outputs": [
    {
     "name": "stdout",
     "output_type": "stream",
     "text": [
      "Percentage of normal transactions:  0.5\n",
      "Percentage of fraud transactions:  0.5\n",
      "Total number of transactions in resampled data:  984\n"
     ]
    }
   ],
   "source": [
    "# Out of the indices we picked, randomly select \"x\" number (number_records_fraud)\n",
    "random_normal_indices = np.random.choice(normal_indices, number_records_fraud, replace = False)\n",
    "random_normal_indices = np.array(random_normal_indices)\n",
    "\n",
    "# Appending the 2 indices\n",
    "under_sample_indices = np.concatenate([fraud_indices,random_normal_indices])\n",
    "\n",
    "# Under sample dataset\n",
    "under_sample_data = data.iloc[under_sample_indices,:]\n",
    "\n",
    "X_undersample = under_sample_data.iloc[:, under_sample_data.columns != 'Class']\n",
    "y_undersample = under_sample_data.iloc[:, under_sample_data.columns == 'Class']\n",
    "\n",
    "# Showing ratio\n",
    "print(\"Percentage of normal transactions: \", len(under_sample_data[under_sample_data.Class == 0])/len(under_sample_data))\n",
    "print(\"Percentage of fraud transactions: \", len(under_sample_data[under_sample_data.Class == 1])/len(under_sample_data))\n",
    "print(\"Total number of transactions in resampled data: \", len(under_sample_data))"
   ]
  },
  {
   "cell_type": "code",
   "execution_count": 9,
   "id": "2fd3d8c2",
   "metadata": {
    "execution": {
     "iopub.execute_input": "2022-08-27T19:47:09.039741Z",
     "iopub.status.busy": "2022-08-27T19:47:09.038898Z",
     "iopub.status.idle": "2022-08-27T19:47:09.209063Z",
     "shell.execute_reply": "2022-08-27T19:47:09.207617Z"
    },
    "papermill": {
     "duration": 0.180705,
     "end_time": "2022-08-27T19:47:09.211728",
     "exception": false,
     "start_time": "2022-08-27T19:47:09.031023",
     "status": "completed"
    },
    "tags": []
   },
   "outputs": [
    {
     "name": "stdout",
     "output_type": "stream",
     "text": [
      "Number transactions train dataset:  199364\n",
      "Number transactions test dataset:  85443\n",
      "Total number of transactions:  284807\n",
      "\n",
      "Number transactions train dataset:  688\n",
      "Number transactions test dataset:  296\n",
      "Total number of transactions:  984\n"
     ]
    }
   ],
   "source": [
    "from sklearn.model_selection import train_test_split\n",
    "\n",
    "# Whole dataset\n",
    "X_train, X_test, y_train, y_test = train_test_split(X,y,test_size = 0.3, random_state = 0)\n",
    "\n",
    "print(\"Number transactions train dataset: \", len(X_train))\n",
    "print(\"Number transactions test dataset: \", len(X_test))\n",
    "print(\"Total number of transactions: \", len(X_train)+len(X_test))\n",
    "\n",
    "# Undersampled dataset\n",
    "X_train_undersample, X_test_undersample, y_train_undersample, y_test_undersample = train_test_split(X_undersample\n",
    "                                                                                                   ,y_undersample\n",
    "                                                                                                   ,test_size = 0.3\n",
    "                                                                                                   ,random_state = 0)\n",
    "print(\"\")\n",
    "print(\"Number transactions train dataset: \", len(X_train_undersample))\n",
    "print(\"Number transactions test dataset: \", len(X_test_undersample))\n",
    "print(\"Total number of transactions: \", len(X_train_undersample)+len(X_test_undersample))"
   ]
  },
  {
   "cell_type": "code",
   "execution_count": 10,
   "id": "7564068e",
   "metadata": {
    "execution": {
     "iopub.execute_input": "2022-08-27T19:47:09.228238Z",
     "iopub.status.busy": "2022-08-27T19:47:09.227275Z",
     "iopub.status.idle": "2022-08-27T19:47:09.232991Z",
     "shell.execute_reply": "2022-08-27T19:47:09.231617Z"
    },
    "papermill": {
     "duration": 0.016406,
     "end_time": "2022-08-27T19:47:09.235473",
     "exception": false,
     "start_time": "2022-08-27T19:47:09.219067",
     "status": "completed"
    },
    "tags": []
   },
   "outputs": [],
   "source": [
    "scaler=StandardScaler()"
   ]
  },
  {
   "cell_type": "code",
   "execution_count": 11,
   "id": "dd0398ef",
   "metadata": {
    "execution": {
     "iopub.execute_input": "2022-08-27T19:47:09.251309Z",
     "iopub.status.busy": "2022-08-27T19:47:09.250871Z",
     "iopub.status.idle": "2022-08-27T19:47:09.265610Z",
     "shell.execute_reply": "2022-08-27T19:47:09.264408Z"
    },
    "papermill": {
     "duration": 0.025983,
     "end_time": "2022-08-27T19:47:09.268394",
     "exception": false,
     "start_time": "2022-08-27T19:47:09.242411",
     "status": "completed"
    },
    "tags": []
   },
   "outputs": [],
   "source": [
    "scaled_X_train = scaler.fit_transform(X_train_undersample)\n",
    "scaled_X_test = scaler.fit_transform(X_test_undersample)"
   ]
  },
  {
   "cell_type": "code",
   "execution_count": 12,
   "id": "ed4c9303",
   "metadata": {
    "execution": {
     "iopub.execute_input": "2022-08-27T19:47:09.283760Z",
     "iopub.status.busy": "2022-08-27T19:47:09.283361Z",
     "iopub.status.idle": "2022-08-27T19:47:09.291087Z",
     "shell.execute_reply": "2022-08-27T19:47:09.289705Z"
    },
    "papermill": {
     "duration": 0.018445,
     "end_time": "2022-08-27T19:47:09.293613",
     "exception": false,
     "start_time": "2022-08-27T19:47:09.275168",
     "status": "completed"
    },
    "tags": []
   },
   "outputs": [
    {
     "data": {
      "text/plain": [
       "(688, 28)"
      ]
     },
     "execution_count": 12,
     "metadata": {},
     "output_type": "execute_result"
    }
   ],
   "source": [
    "X_train_undersample.shape"
   ]
  },
  {
   "cell_type": "code",
   "execution_count": 13,
   "id": "d8a8ab08",
   "metadata": {
    "execution": {
     "iopub.execute_input": "2022-08-27T19:47:09.309804Z",
     "iopub.status.busy": "2022-08-27T19:47:09.309407Z",
     "iopub.status.idle": "2022-08-27T19:47:14.551123Z",
     "shell.execute_reply": "2022-08-27T19:47:14.549844Z"
    },
    "papermill": {
     "duration": 5.253283,
     "end_time": "2022-08-27T19:47:14.554032",
     "exception": false,
     "start_time": "2022-08-27T19:47:09.300749",
     "status": "completed"
    },
    "tags": []
   },
   "outputs": [],
   "source": [
    "from sklearn.metrics import confusion_matrix , classification_report\n",
    "from tensorflow import keras\n",
    "def ANN(scaled_X_train, y_train, scaled_X_test, y_test, loss):\n",
    "    model = keras.Sequential([\n",
    "        keras.layers.Dense(28, input_dim=28, activation='relu'),\n",
    "        keras.layers.Dense(15, activation='relu'),\n",
    "        keras.layers.Dense(15, activation='relu'),\n",
    "        keras.layers.Dense(15, activation='relu'),\n",
    "        keras.layers.Dense(15, activation='relu'),\n",
    "        keras.layers.Dense(1, activation='sigmoid')\n",
    "    ])\n",
    "\n",
    "    model.compile(optimizer='adam', loss=loss, metrics=['accuracy'])\n",
    "\n",
    "    \n",
    "    model.fit(scaled_X_train, y_train, epochs=100)\n",
    "\n",
    "    print(model.evaluate(scaled_X_test, y_test))\n",
    "\n",
    "    y_preds = model.predict(scaled_X_test)\n",
    "    y_preds = np.round(y_preds)\n",
    "\n",
    "    print(\"Classification Report: \\n\", classification_report(y_test, y_preds))\n",
    "\n",
    "    return y_preds"
   ]
  },
  {
   "cell_type": "code",
   "execution_count": 14,
   "id": "78738bbe",
   "metadata": {
    "execution": {
     "iopub.execute_input": "2022-08-27T19:47:14.570873Z",
     "iopub.status.busy": "2022-08-27T19:47:14.570144Z",
     "iopub.status.idle": "2022-08-27T19:47:23.388201Z",
     "shell.execute_reply": "2022-08-27T19:47:23.386300Z"
    },
    "papermill": {
     "duration": 8.829948,
     "end_time": "2022-08-27T19:47:23.391859",
     "exception": false,
     "start_time": "2022-08-27T19:47:14.561911",
     "status": "completed"
    },
    "tags": []
   },
   "outputs": [
    {
     "name": "stderr",
     "output_type": "stream",
     "text": [
      "2022-08-27 19:47:15.943494: I tensorflow/core/common_runtime/process_util.cc:146] Creating new thread pool with default inter op setting: 2. Tune using inter_op_parallelism_threads for best performance.\n",
      "2022-08-27 19:47:16.128150: I tensorflow/compiler/mlir/mlir_graph_optimization_pass.cc:185] None of the MLIR Optimization Passes are enabled (registered 2)\n"
     ]
    },
    {
     "name": "stdout",
     "output_type": "stream",
     "text": [
      "Epoch 1/100\n",
      "22/22 [==============================] - 1s 3ms/step - loss: 0.6365 - accuracy: 0.6715\n",
      "Epoch 2/100\n",
      "22/22 [==============================] - 0s 2ms/step - loss: 0.4831 - accuracy: 0.8401\n",
      "Epoch 3/100\n",
      "22/22 [==============================] - 0s 2ms/step - loss: 0.3378 - accuracy: 0.9012\n",
      "Epoch 4/100\n",
      "22/22 [==============================] - 0s 2ms/step - loss: 0.2524 - accuracy: 0.9230\n",
      "Epoch 5/100\n",
      "22/22 [==============================] - 0s 2ms/step - loss: 0.2094 - accuracy: 0.9244\n",
      "Epoch 6/100\n",
      "22/22 [==============================] - 0s 2ms/step - loss: 0.1834 - accuracy: 0.9360\n",
      "Epoch 7/100\n",
      "22/22 [==============================] - 0s 2ms/step - loss: 0.1656 - accuracy: 0.9433\n",
      "Epoch 8/100\n",
      "22/22 [==============================] - 0s 2ms/step - loss: 0.1592 - accuracy: 0.9404\n",
      "Epoch 9/100\n",
      "22/22 [==============================] - 0s 3ms/step - loss: 0.1494 - accuracy: 0.9448\n",
      "Epoch 10/100\n",
      "22/22 [==============================] - 0s 2ms/step - loss: 0.1367 - accuracy: 0.9520\n",
      "Epoch 11/100\n",
      "22/22 [==============================] - 0s 2ms/step - loss: 0.1259 - accuracy: 0.9593\n",
      "Epoch 12/100\n",
      "22/22 [==============================] - 0s 2ms/step - loss: 0.1215 - accuracy: 0.9578\n",
      "Epoch 13/100\n",
      "22/22 [==============================] - 0s 2ms/step - loss: 0.1183 - accuracy: 0.9549\n",
      "Epoch 14/100\n",
      "22/22 [==============================] - 0s 2ms/step - loss: 0.1092 - accuracy: 0.9608\n",
      "Epoch 15/100\n",
      "22/22 [==============================] - 0s 2ms/step - loss: 0.1024 - accuracy: 0.9637\n",
      "Epoch 16/100\n",
      "22/22 [==============================] - 0s 2ms/step - loss: 0.0977 - accuracy: 0.9666\n",
      "Epoch 17/100\n",
      "22/22 [==============================] - 0s 2ms/step - loss: 0.0940 - accuracy: 0.9680\n",
      "Epoch 18/100\n",
      "22/22 [==============================] - 0s 2ms/step - loss: 0.0862 - accuracy: 0.9724\n",
      "Epoch 19/100\n",
      "22/22 [==============================] - 0s 2ms/step - loss: 0.0869 - accuracy: 0.9709\n",
      "Epoch 20/100\n",
      "22/22 [==============================] - 0s 2ms/step - loss: 0.0819 - accuracy: 0.9753\n",
      "Epoch 21/100\n",
      "22/22 [==============================] - 0s 2ms/step - loss: 0.0750 - accuracy: 0.9709\n",
      "Epoch 22/100\n",
      "22/22 [==============================] - 0s 2ms/step - loss: 0.0690 - accuracy: 0.9767\n",
      "Epoch 23/100\n",
      "22/22 [==============================] - 0s 2ms/step - loss: 0.0642 - accuracy: 0.9826\n",
      "Epoch 24/100\n",
      "22/22 [==============================] - 0s 2ms/step - loss: 0.0619 - accuracy: 0.9840\n",
      "Epoch 25/100\n",
      "22/22 [==============================] - 0s 2ms/step - loss: 0.0586 - accuracy: 0.9855\n",
      "Epoch 26/100\n",
      "22/22 [==============================] - 0s 2ms/step - loss: 0.0539 - accuracy: 0.9884\n",
      "Epoch 27/100\n",
      "22/22 [==============================] - 0s 2ms/step - loss: 0.0529 - accuracy: 0.9884\n",
      "Epoch 28/100\n",
      "22/22 [==============================] - 0s 2ms/step - loss: 0.0501 - accuracy: 0.9884\n",
      "Epoch 29/100\n",
      "22/22 [==============================] - 0s 2ms/step - loss: 0.0456 - accuracy: 0.9898\n",
      "Epoch 30/100\n",
      "22/22 [==============================] - 0s 2ms/step - loss: 0.0425 - accuracy: 0.9898\n",
      "Epoch 31/100\n",
      "22/22 [==============================] - 0s 2ms/step - loss: 0.0434 - accuracy: 0.9898\n",
      "Epoch 32/100\n",
      "22/22 [==============================] - 0s 3ms/step - loss: 0.0395 - accuracy: 0.9913\n",
      "Epoch 33/100\n",
      "22/22 [==============================] - 0s 3ms/step - loss: 0.0379 - accuracy: 0.9913\n",
      "Epoch 34/100\n",
      "22/22 [==============================] - 0s 3ms/step - loss: 0.0372 - accuracy: 0.9913\n",
      "Epoch 35/100\n",
      "22/22 [==============================] - 0s 3ms/step - loss: 0.0321 - accuracy: 0.9927\n",
      "Epoch 36/100\n",
      "22/22 [==============================] - 0s 3ms/step - loss: 0.0294 - accuracy: 0.9927\n",
      "Epoch 37/100\n",
      "22/22 [==============================] - 0s 3ms/step - loss: 0.0262 - accuracy: 0.9927\n",
      "Epoch 38/100\n",
      "22/22 [==============================] - 0s 2ms/step - loss: 0.0270 - accuracy: 0.9913\n",
      "Epoch 39/100\n",
      "22/22 [==============================] - 0s 2ms/step - loss: 0.0235 - accuracy: 0.9942\n",
      "Epoch 40/100\n",
      "22/22 [==============================] - 0s 2ms/step - loss: 0.0220 - accuracy: 0.9956\n",
      "Epoch 41/100\n",
      "22/22 [==============================] - 0s 2ms/step - loss: 0.0211 - accuracy: 0.9956\n",
      "Epoch 42/100\n",
      "22/22 [==============================] - 0s 2ms/step - loss: 0.0172 - accuracy: 0.9956\n",
      "Epoch 43/100\n",
      "22/22 [==============================] - 0s 3ms/step - loss: 0.0164 - accuracy: 0.9956\n",
      "Epoch 44/100\n",
      "22/22 [==============================] - 0s 3ms/step - loss: 0.0149 - accuracy: 0.9956\n",
      "Epoch 45/100\n",
      "22/22 [==============================] - 0s 3ms/step - loss: 0.0174 - accuracy: 0.9956\n",
      "Epoch 46/100\n",
      "22/22 [==============================] - 0s 3ms/step - loss: 0.0153 - accuracy: 0.9956\n",
      "Epoch 47/100\n",
      "22/22 [==============================] - 0s 3ms/step - loss: 0.0147 - accuracy: 0.9971\n",
      "Epoch 48/100\n",
      "22/22 [==============================] - 0s 2ms/step - loss: 0.0119 - accuracy: 0.9971\n",
      "Epoch 49/100\n",
      "22/22 [==============================] - 0s 2ms/step - loss: 0.0105 - accuracy: 0.9971\n",
      "Epoch 50/100\n",
      "22/22 [==============================] - 0s 2ms/step - loss: 0.0101 - accuracy: 0.9971\n",
      "Epoch 51/100\n",
      "22/22 [==============================] - 0s 3ms/step - loss: 0.0092 - accuracy: 0.9985\n",
      "Epoch 52/100\n",
      "22/22 [==============================] - 0s 2ms/step - loss: 0.0090 - accuracy: 0.9971\n",
      "Epoch 53/100\n",
      "22/22 [==============================] - 0s 2ms/step - loss: 0.0154 - accuracy: 0.9971\n",
      "Epoch 54/100\n",
      "22/22 [==============================] - 0s 2ms/step - loss: 0.0127 - accuracy: 0.9971\n",
      "Epoch 55/100\n",
      "22/22 [==============================] - 0s 2ms/step - loss: 0.0081 - accuracy: 0.9985\n",
      "Epoch 56/100\n",
      "22/22 [==============================] - 0s 2ms/step - loss: 0.0065 - accuracy: 0.9985\n",
      "Epoch 57/100\n",
      "22/22 [==============================] - 0s 2ms/step - loss: 0.0053 - accuracy: 0.9985\n",
      "Epoch 58/100\n",
      "22/22 [==============================] - 0s 2ms/step - loss: 0.0043 - accuracy: 1.0000\n",
      "Epoch 59/100\n",
      "22/22 [==============================] - 0s 3ms/step - loss: 0.0040 - accuracy: 1.0000\n",
      "Epoch 60/100\n",
      "22/22 [==============================] - 0s 2ms/step - loss: 0.0044 - accuracy: 1.0000\n",
      "Epoch 61/100\n",
      "22/22 [==============================] - 0s 3ms/step - loss: 0.0034 - accuracy: 1.0000\n",
      "Epoch 62/100\n",
      "22/22 [==============================] - 0s 3ms/step - loss: 0.0030 - accuracy: 1.0000\n",
      "Epoch 63/100\n",
      "22/22 [==============================] - 0s 3ms/step - loss: 0.0027 - accuracy: 1.0000\n",
      "Epoch 64/100\n",
      "22/22 [==============================] - 0s 2ms/step - loss: 0.0026 - accuracy: 1.0000\n",
      "Epoch 65/100\n",
      "22/22 [==============================] - 0s 2ms/step - loss: 0.0022 - accuracy: 1.0000\n",
      "Epoch 66/100\n",
      "22/22 [==============================] - 0s 3ms/step - loss: 0.0021 - accuracy: 1.0000\n",
      "Epoch 67/100\n",
      "22/22 [==============================] - 0s 3ms/step - loss: 0.0020 - accuracy: 1.0000\n",
      "Epoch 68/100\n",
      "22/22 [==============================] - 0s 3ms/step - loss: 0.0020 - accuracy: 1.0000\n",
      "Epoch 69/100\n",
      "22/22 [==============================] - 0s 3ms/step - loss: 0.0016 - accuracy: 1.0000\n",
      "Epoch 70/100\n",
      "22/22 [==============================] - 0s 3ms/step - loss: 0.0016 - accuracy: 1.0000\n",
      "Epoch 71/100\n",
      "22/22 [==============================] - 0s 3ms/step - loss: 0.0015 - accuracy: 1.0000\n",
      "Epoch 72/100\n",
      "22/22 [==============================] - 0s 3ms/step - loss: 0.0014 - accuracy: 1.0000\n",
      "Epoch 73/100\n",
      "22/22 [==============================] - 0s 3ms/step - loss: 0.0014 - accuracy: 1.0000\n",
      "Epoch 74/100\n",
      "22/22 [==============================] - 0s 2ms/step - loss: 0.0012 - accuracy: 1.0000\n",
      "Epoch 75/100\n",
      "22/22 [==============================] - 0s 3ms/step - loss: 0.0012 - accuracy: 1.0000\n",
      "Epoch 76/100\n",
      "22/22 [==============================] - 0s 2ms/step - loss: 0.0011 - accuracy: 1.0000\n",
      "Epoch 77/100\n",
      "22/22 [==============================] - 0s 2ms/step - loss: 0.0010 - accuracy: 1.0000\n",
      "Epoch 78/100\n",
      "22/22 [==============================] - 0s 2ms/step - loss: 9.5458e-04 - accuracy: 1.0000\n",
      "Epoch 79/100\n",
      "22/22 [==============================] - 0s 2ms/step - loss: 9.0162e-04 - accuracy: 1.0000\n",
      "Epoch 80/100\n",
      "22/22 [==============================] - 0s 2ms/step - loss: 8.5187e-04 - accuracy: 1.0000\n",
      "Epoch 81/100\n",
      "22/22 [==============================] - 0s 3ms/step - loss: 8.6594e-04 - accuracy: 1.0000\n",
      "Epoch 82/100\n",
      "22/22 [==============================] - 0s 3ms/step - loss: 7.7110e-04 - accuracy: 1.0000\n",
      "Epoch 83/100\n",
      "22/22 [==============================] - 0s 3ms/step - loss: 8.1052e-04 - accuracy: 1.0000\n",
      "Epoch 84/100\n",
      "22/22 [==============================] - 0s 3ms/step - loss: 7.0248e-04 - accuracy: 1.0000\n",
      "Epoch 85/100\n",
      "22/22 [==============================] - 0s 3ms/step - loss: 6.6730e-04 - accuracy: 1.0000\n",
      "Epoch 86/100\n",
      "22/22 [==============================] - 0s 3ms/step - loss: 6.5923e-04 - accuracy: 1.0000\n",
      "Epoch 87/100\n",
      "22/22 [==============================] - 0s 3ms/step - loss: 6.2531e-04 - accuracy: 1.0000\n",
      "Epoch 88/100\n",
      "22/22 [==============================] - 0s 3ms/step - loss: 6.0363e-04 - accuracy: 1.0000\n",
      "Epoch 89/100\n",
      "22/22 [==============================] - 0s 3ms/step - loss: 5.6060e-04 - accuracy: 1.0000\n",
      "Epoch 90/100\n",
      "22/22 [==============================] - 0s 3ms/step - loss: 5.5117e-04 - accuracy: 1.0000\n",
      "Epoch 91/100\n",
      "22/22 [==============================] - 0s 3ms/step - loss: 5.3632e-04 - accuracy: 1.0000\n",
      "Epoch 92/100\n",
      "22/22 [==============================] - 0s 3ms/step - loss: 5.1292e-04 - accuracy: 1.0000\n",
      "Epoch 93/100\n",
      "22/22 [==============================] - 0s 2ms/step - loss: 4.7905e-04 - accuracy: 1.0000\n",
      "Epoch 94/100\n",
      "22/22 [==============================] - 0s 2ms/step - loss: 4.5708e-04 - accuracy: 1.0000\n",
      "Epoch 95/100\n",
      "22/22 [==============================] - 0s 2ms/step - loss: 4.5358e-04 - accuracy: 1.0000\n",
      "Epoch 96/100\n",
      "22/22 [==============================] - 0s 2ms/step - loss: 4.4251e-04 - accuracy: 1.0000\n",
      "Epoch 97/100\n",
      "22/22 [==============================] - 0s 2ms/step - loss: 4.3068e-04 - accuracy: 1.0000\n",
      "Epoch 98/100\n",
      "22/22 [==============================] - 0s 2ms/step - loss: 4.0312e-04 - accuracy: 1.0000\n",
      "Epoch 99/100\n",
      "22/22 [==============================] - 0s 2ms/step - loss: 3.9068e-04 - accuracy: 1.0000\n",
      "Epoch 100/100\n",
      "22/22 [==============================] - 0s 2ms/step - loss: 3.8989e-04 - accuracy: 1.0000\n",
      "10/10 [==============================] - 0s 2ms/step - loss: 0.7075 - accuracy: 0.9020\n",
      "[0.7074852585792542, 0.9020270109176636]\n",
      "Classification Report: \n",
      "               precision    recall  f1-score   support\n",
      "\n",
      "           0       0.91      0.90      0.90       149\n",
      "           1       0.90      0.90      0.90       147\n",
      "\n",
      "    accuracy                           0.90       296\n",
      "   macro avg       0.90      0.90      0.90       296\n",
      "weighted avg       0.90      0.90      0.90       296\n",
      "\n"
     ]
    }
   ],
   "source": [
    "y_preds = ANN(scaled_X_train, y_train_undersample, scaled_X_test, y_test_undersample, 'binary_crossentropy')"
   ]
  },
  {
   "cell_type": "code",
   "execution_count": 15,
   "id": "93fa30b8",
   "metadata": {
    "execution": {
     "iopub.execute_input": "2022-08-27T19:47:23.443428Z",
     "iopub.status.busy": "2022-08-27T19:47:23.442741Z",
     "iopub.status.idle": "2022-08-27T19:47:23.448180Z",
     "shell.execute_reply": "2022-08-27T19:47:23.447270Z"
    },
    "papermill": {
     "duration": 0.033268,
     "end_time": "2022-08-27T19:47:23.450721",
     "exception": false,
     "start_time": "2022-08-27T19:47:23.417453",
     "status": "completed"
    },
    "tags": []
   },
   "outputs": [],
   "source": [
    "y_pred = []\n",
    "for element in y_preds:\n",
    "    if element > 0.5:\n",
    "        y_pred.append(1)\n",
    "    else:\n",
    "        y_pred.append(0)"
   ]
  },
  {
   "cell_type": "code",
   "execution_count": 16,
   "id": "c05fb450",
   "metadata": {
    "execution": {
     "iopub.execute_input": "2022-08-27T19:47:23.501073Z",
     "iopub.status.busy": "2022-08-27T19:47:23.500396Z",
     "iopub.status.idle": "2022-08-27T19:47:23.506876Z",
     "shell.execute_reply": "2022-08-27T19:47:23.505936Z"
    },
    "papermill": {
     "duration": 0.034319,
     "end_time": "2022-08-27T19:47:23.509488",
     "exception": false,
     "start_time": "2022-08-27T19:47:23.475169",
     "status": "completed"
    },
    "tags": []
   },
   "outputs": [
    {
     "data": {
      "text/plain": [
       "array([[0.],\n",
       "       [0.],\n",
       "       [1.],\n",
       "       [0.],\n",
       "       [0.]], dtype=float32)"
      ]
     },
     "execution_count": 16,
     "metadata": {},
     "output_type": "execute_result"
    }
   ],
   "source": [
    "y_preds[:5]"
   ]
  },
  {
   "cell_type": "code",
   "execution_count": 17,
   "id": "d9662d2b",
   "metadata": {
    "execution": {
     "iopub.execute_input": "2022-08-27T19:47:23.560649Z",
     "iopub.status.busy": "2022-08-27T19:47:23.559801Z",
     "iopub.status.idle": "2022-08-27T19:47:23.567121Z",
     "shell.execute_reply": "2022-08-27T19:47:23.565914Z"
    },
    "papermill": {
     "duration": 0.035826,
     "end_time": "2022-08-27T19:47:23.569667",
     "exception": false,
     "start_time": "2022-08-27T19:47:23.533841",
     "status": "completed"
    },
    "tags": []
   },
   "outputs": [
    {
     "data": {
      "text/plain": [
       "[0, 0, 1, 0, 0]"
      ]
     },
     "execution_count": 17,
     "metadata": {},
     "output_type": "execute_result"
    }
   ],
   "source": [
    "y_pred[:5]"
   ]
  },
  {
   "cell_type": "code",
   "execution_count": 18,
   "id": "85c3255b",
   "metadata": {
    "execution": {
     "iopub.execute_input": "2022-08-27T19:47:23.620054Z",
     "iopub.status.busy": "2022-08-27T19:47:23.619381Z",
     "iopub.status.idle": "2022-08-27T19:47:24.064527Z",
     "shell.execute_reply": "2022-08-27T19:47:24.063283Z"
    },
    "papermill": {
     "duration": 0.473065,
     "end_time": "2022-08-27T19:47:24.067083",
     "exception": false,
     "start_time": "2022-08-27T19:47:23.594018",
     "status": "completed"
    },
    "tags": []
   },
   "outputs": [
    {
     "data": {
      "text/plain": [
       "Text(69.0, 0.5, 'Truth')"
      ]
     },
     "execution_count": 18,
     "metadata": {},
     "output_type": "execute_result"
    },
    {
     "data": {
      "image/png": "[encoded data removed]",
      "text/plain": [
       "<Figure size 720x504 with 2 Axes>"
      ]
     },
     "metadata": {
      "needs_background": "light"
     },
     "output_type": "display_data"
    }
   ],
   "source": [
    "import seaborn as sn\n",
    "import tensorflow as tf\n",
    "cm = tf.math.confusion_matrix(labels=y_test_undersample,predictions=y_pred)\n",
    "\n",
    "plt.figure(figsize = (10,7))\n",
    "sn.heatmap(cm, annot=True, fmt='d')\n",
    "plt.xlabel('Predicted')\n",
    "plt.ylabel('Truth')"
   ]
  },
  {
   "cell_type": "code",
   "execution_count": 19,
   "id": "8585c81d",
   "metadata": {
    "execution": {
     "iopub.execute_input": "2022-08-27T19:47:24.117549Z",
     "iopub.status.busy": "2022-08-27T19:47:24.117115Z",
     "iopub.status.idle": "2022-08-27T19:47:34.617780Z",
     "shell.execute_reply": "2022-08-27T19:47:34.616278Z"
    },
    "papermill": {
     "duration": 10.529135,
     "end_time": "2022-08-27T19:47:34.620894",
     "exception": false,
     "start_time": "2022-08-27T19:47:24.091759",
     "status": "completed"
    },
    "tags": []
   },
   "outputs": [
    {
     "name": "stdout",
     "output_type": "stream",
     "text": [
      "Epoch 1/100\n",
      "22/22 [==============================] - 1s 3ms/step - loss: 0.5682 - accuracy: 0.7122\n",
      "Epoch 2/100\n",
      "22/22 [==============================] - 0s 2ms/step - loss: 0.3796 - accuracy: 0.8605\n",
      "Epoch 3/100\n",
      "22/22 [==============================] - 0s 2ms/step - loss: 0.3078 - accuracy: 0.9259\n",
      "Epoch 4/100\n",
      "22/22 [==============================] - 0s 2ms/step - loss: 0.2431 - accuracy: 0.9288\n",
      "Epoch 5/100\n",
      "22/22 [==============================] - 0s 3ms/step - loss: 0.1946 - accuracy: 0.9346\n",
      "Epoch 6/100\n",
      "22/22 [==============================] - 0s 5ms/step - loss: 0.1642 - accuracy: 0.9433\n",
      "Epoch 7/100\n",
      "22/22 [==============================] - 0s 3ms/step - loss: 0.1455 - accuracy: 0.9433\n",
      "Epoch 8/100\n",
      "22/22 [==============================] - 0s 2ms/step - loss: 0.1312 - accuracy: 0.9462\n",
      "Epoch 9/100\n",
      "22/22 [==============================] - 0s 2ms/step - loss: 0.1211 - accuracy: 0.9549\n",
      "Epoch 10/100\n",
      "22/22 [==============================] - 0s 2ms/step - loss: 0.1136 - accuracy: 0.9549\n",
      "Epoch 11/100\n",
      "22/22 [==============================] - 0s 2ms/step - loss: 0.1057 - accuracy: 0.9593\n",
      "Epoch 12/100\n",
      "22/22 [==============================] - 0s 2ms/step - loss: 0.0993 - accuracy: 0.9622\n",
      "Epoch 13/100\n",
      "22/22 [==============================] - 0s 2ms/step - loss: 0.0920 - accuracy: 0.9666\n",
      "Epoch 14/100\n",
      "22/22 [==============================] - 0s 3ms/step - loss: 0.0863 - accuracy: 0.9666\n",
      "Epoch 15/100\n",
      "22/22 [==============================] - 0s 3ms/step - loss: 0.0810 - accuracy: 0.9709\n",
      "Epoch 16/100\n",
      "22/22 [==============================] - 0s 3ms/step - loss: 0.0743 - accuracy: 0.9753\n",
      "Epoch 17/100\n",
      "22/22 [==============================] - 0s 2ms/step - loss: 0.0677 - accuracy: 0.9782\n",
      "Epoch 18/100\n",
      "22/22 [==============================] - 0s 3ms/step - loss: 0.0627 - accuracy: 0.9782\n",
      "Epoch 19/100\n",
      "22/22 [==============================] - 0s 3ms/step - loss: 0.0594 - accuracy: 0.9811\n",
      "Epoch 20/100\n",
      "22/22 [==============================] - 0s 2ms/step - loss: 0.0522 - accuracy: 0.9826\n",
      "Epoch 21/100\n",
      "22/22 [==============================] - 0s 2ms/step - loss: 0.0510 - accuracy: 0.9826\n",
      "Epoch 22/100\n",
      "22/22 [==============================] - 0s 3ms/step - loss: 0.0465 - accuracy: 0.9840\n",
      "Epoch 23/100\n",
      "22/22 [==============================] - 0s 2ms/step - loss: 0.0433 - accuracy: 0.9840\n",
      "Epoch 24/100\n",
      "22/22 [==============================] - 0s 2ms/step - loss: 0.0376 - accuracy: 0.9840\n",
      "Epoch 25/100\n",
      "22/22 [==============================] - 0s 2ms/step - loss: 0.0329 - accuracy: 0.9855\n",
      "Epoch 26/100\n",
      "22/22 [==============================] - 0s 2ms/step - loss: 0.0302 - accuracy: 0.9855\n",
      "Epoch 27/100\n",
      "22/22 [==============================] - 0s 2ms/step - loss: 0.0260 - accuracy: 0.9855\n",
      "Epoch 28/100\n",
      "22/22 [==============================] - 0s 2ms/step - loss: 0.0233 - accuracy: 0.9855\n",
      "Epoch 29/100\n",
      "22/22 [==============================] - 0s 2ms/step - loss: 0.0208 - accuracy: 0.9869\n",
      "Epoch 30/100\n",
      "22/22 [==============================] - 0s 2ms/step - loss: 0.0191 - accuracy: 0.9869\n",
      "Epoch 31/100\n",
      "22/22 [==============================] - 0s 2ms/step - loss: 0.0168 - accuracy: 0.9869\n",
      "Epoch 32/100\n",
      "22/22 [==============================] - 0s 2ms/step - loss: 0.0151 - accuracy: 0.9884\n",
      "Epoch 33/100\n",
      "22/22 [==============================] - 0s 2ms/step - loss: 0.0137 - accuracy: 0.9884\n",
      "Epoch 34/100\n",
      "22/22 [==============================] - 0s 3ms/step - loss: 0.0126 - accuracy: 0.9898\n",
      "Epoch 35/100\n",
      "22/22 [==============================] - 0s 2ms/step - loss: 0.0115 - accuracy: 0.9927\n",
      "Epoch 36/100\n",
      "22/22 [==============================] - 0s 2ms/step - loss: 0.0104 - accuracy: 1.0000\n",
      "Epoch 37/100\n",
      "22/22 [==============================] - 0s 3ms/step - loss: 0.0091 - accuracy: 1.0000\n",
      "Epoch 38/100\n",
      "22/22 [==============================] - 0s 2ms/step - loss: 0.0081 - accuracy: 1.0000\n",
      "Epoch 39/100\n",
      "22/22 [==============================] - 0s 2ms/step - loss: 0.0073 - accuracy: 1.0000\n",
      "Epoch 40/100\n",
      "22/22 [==============================] - 0s 2ms/step - loss: 0.0067 - accuracy: 1.0000\n",
      "Epoch 41/100\n",
      "22/22 [==============================] - 0s 2ms/step - loss: 0.0060 - accuracy: 1.0000\n",
      "Epoch 42/100\n",
      "22/22 [==============================] - 0s 3ms/step - loss: 0.0055 - accuracy: 1.0000\n",
      "Epoch 43/100\n",
      "22/22 [==============================] - 0s 2ms/step - loss: 0.0048 - accuracy: 1.0000\n",
      "Epoch 44/100\n",
      "22/22 [==============================] - 0s 3ms/step - loss: 0.0044 - accuracy: 1.0000\n",
      "Epoch 45/100\n",
      "22/22 [==============================] - 0s 2ms/step - loss: 0.0038 - accuracy: 1.0000\n",
      "Epoch 46/100\n",
      "22/22 [==============================] - 0s 3ms/step - loss: 0.0033 - accuracy: 1.0000\n",
      "Epoch 47/100\n",
      "22/22 [==============================] - 0s 3ms/step - loss: 0.0030 - accuracy: 1.0000\n",
      "Epoch 48/100\n",
      "22/22 [==============================] - 0s 3ms/step - loss: 0.0026 - accuracy: 1.0000\n",
      "Epoch 49/100\n",
      "22/22 [==============================] - 0s 3ms/step - loss: 0.0023 - accuracy: 1.0000\n",
      "Epoch 50/100\n",
      "22/22 [==============================] - 0s 3ms/step - loss: 0.0020 - accuracy: 1.0000\n",
      "Epoch 51/100\n",
      "22/22 [==============================] - 0s 2ms/step - loss: 0.0018 - accuracy: 1.0000\n",
      "Epoch 52/100\n",
      "22/22 [==============================] - 0s 3ms/step - loss: 0.0016 - accuracy: 1.0000\n",
      "Epoch 53/100\n",
      "22/22 [==============================] - 0s 2ms/step - loss: 0.0015 - accuracy: 1.0000\n",
      "Epoch 54/100\n",
      "22/22 [==============================] - 0s 3ms/step - loss: 0.0014 - accuracy: 1.0000\n",
      "Epoch 55/100\n",
      "22/22 [==============================] - 0s 2ms/step - loss: 0.0012 - accuracy: 1.0000\n",
      "Epoch 56/100\n",
      "22/22 [==============================] - 0s 2ms/step - loss: 0.0011 - accuracy: 1.0000\n",
      "Epoch 57/100\n",
      "22/22 [==============================] - 0s 3ms/step - loss: 0.0010 - accuracy: 1.0000\n",
      "Epoch 58/100\n",
      "22/22 [==============================] - 0s 2ms/step - loss: 9.2956e-04 - accuracy: 1.0000\n",
      "Epoch 59/100\n",
      "22/22 [==============================] - 0s 2ms/step - loss: 8.4871e-04 - accuracy: 1.0000\n",
      "Epoch 60/100\n",
      "22/22 [==============================] - 0s 2ms/step - loss: 7.8693e-04 - accuracy: 1.0000\n",
      "Epoch 61/100\n",
      "22/22 [==============================] - 0s 2ms/step - loss: 7.2895e-04 - accuracy: 1.0000\n",
      "Epoch 62/100\n",
      "22/22 [==============================] - 0s 2ms/step - loss: 6.7526e-04 - accuracy: 1.0000\n",
      "Epoch 63/100\n",
      "22/22 [==============================] - 0s 2ms/step - loss: 6.2651e-04 - accuracy: 1.0000\n",
      "Epoch 64/100\n",
      "22/22 [==============================] - 0s 3ms/step - loss: 5.8296e-04 - accuracy: 1.0000\n",
      "Epoch 65/100\n",
      "22/22 [==============================] - 0s 2ms/step - loss: 5.4775e-04 - accuracy: 1.0000\n",
      "Epoch 66/100\n",
      "22/22 [==============================] - 0s 3ms/step - loss: 5.0898e-04 - accuracy: 1.0000\n",
      "Epoch 67/100\n",
      "22/22 [==============================] - 0s 2ms/step - loss: 4.8007e-04 - accuracy: 1.0000\n",
      "Epoch 68/100\n",
      "22/22 [==============================] - 0s 2ms/step - loss: 4.4887e-04 - accuracy: 1.0000\n",
      "Epoch 69/100\n",
      "22/22 [==============================] - 0s 2ms/step - loss: 4.1825e-04 - accuracy: 1.0000\n",
      "Epoch 70/100\n",
      "22/22 [==============================] - 0s 2ms/step - loss: 3.9545e-04 - accuracy: 1.0000\n",
      "Epoch 71/100\n",
      "22/22 [==============================] - 0s 2ms/step - loss: 3.7115e-04 - accuracy: 1.0000\n",
      "Epoch 72/100\n",
      "22/22 [==============================] - 0s 2ms/step - loss: 3.5002e-04 - accuracy: 1.0000\n",
      "Epoch 73/100\n",
      "22/22 [==============================] - 0s 2ms/step - loss: 3.3034e-04 - accuracy: 1.0000\n",
      "Epoch 74/100\n",
      "22/22 [==============================] - 0s 2ms/step - loss: 3.1203e-04 - accuracy: 1.0000\n",
      "Epoch 75/100\n",
      "22/22 [==============================] - 0s 2ms/step - loss: 2.9631e-04 - accuracy: 1.0000\n",
      "Epoch 76/100\n",
      "22/22 [==============================] - 0s 2ms/step - loss: 2.7813e-04 - accuracy: 1.0000\n",
      "Epoch 77/100\n",
      "22/22 [==============================] - 0s 2ms/step - loss: 2.6415e-04 - accuracy: 1.0000\n",
      "Epoch 78/100\n",
      "22/22 [==============================] - 0s 2ms/step - loss: 2.5043e-04 - accuracy: 1.0000\n",
      "Epoch 79/100\n",
      "22/22 [==============================] - 0s 2ms/step - loss: 2.3716e-04 - accuracy: 1.0000\n",
      "Epoch 80/100\n",
      "22/22 [==============================] - 0s 2ms/step - loss: 2.2493e-04 - accuracy: 1.0000\n",
      "Epoch 81/100\n",
      "22/22 [==============================] - 0s 2ms/step - loss: 2.1444e-04 - accuracy: 1.0000\n",
      "Epoch 82/100\n",
      "22/22 [==============================] - 0s 2ms/step - loss: 2.0390e-04 - accuracy: 1.0000\n",
      "Epoch 83/100\n",
      "22/22 [==============================] - 0s 2ms/step - loss: 1.9449e-04 - accuracy: 1.0000\n",
      "Epoch 84/100\n",
      "22/22 [==============================] - 0s 2ms/step - loss: 1.8530e-04 - accuracy: 1.0000\n",
      "Epoch 85/100\n",
      "22/22 [==============================] - 0s 2ms/step - loss: 1.7670e-04 - accuracy: 1.0000\n",
      "Epoch 86/100\n",
      "22/22 [==============================] - 0s 5ms/step - loss: 1.6819e-04 - accuracy: 1.0000\n",
      "Epoch 87/100\n",
      "22/22 [==============================] - 0s 2ms/step - loss: 1.6137e-04 - accuracy: 1.0000\n",
      "Epoch 88/100\n",
      "22/22 [==============================] - 0s 3ms/step - loss: 1.5457e-04 - accuracy: 1.0000\n",
      "Epoch 89/100\n",
      "22/22 [==============================] - 0s 3ms/step - loss: 1.4850e-04 - accuracy: 1.0000\n",
      "Epoch 90/100\n",
      "22/22 [==============================] - 0s 2ms/step - loss: 1.4184e-04 - accuracy: 1.0000\n",
      "Epoch 91/100\n",
      "22/22 [==============================] - 0s 3ms/step - loss: 1.3586e-04 - accuracy: 1.0000\n",
      "Epoch 92/100\n",
      "22/22 [==============================] - 0s 3ms/step - loss: 1.3179e-04 - accuracy: 1.0000\n",
      "Epoch 93/100\n",
      "22/22 [==============================] - 0s 3ms/step - loss: 1.2542e-04 - accuracy: 1.0000\n",
      "Epoch 94/100\n",
      "22/22 [==============================] - 0s 7ms/step - loss: 1.2163e-04 - accuracy: 1.0000\n",
      "Epoch 95/100\n",
      "22/22 [==============================] - 0s 4ms/step - loss: 1.1641e-04 - accuracy: 1.0000\n",
      "Epoch 96/100\n",
      "22/22 [==============================] - 0s 3ms/step - loss: 1.1204e-04 - accuracy: 1.0000\n",
      "Epoch 97/100\n",
      "22/22 [==============================] - 0s 3ms/step - loss: 1.0770e-04 - accuracy: 1.0000\n",
      "Epoch 98/100\n",
      "22/22 [==============================] - 0s 6ms/step - loss: 1.0405e-04 - accuracy: 1.0000\n",
      "Epoch 99/100\n",
      "22/22 [==============================] - 0s 3ms/step - loss: 1.0023e-04 - accuracy: 1.0000\n",
      "Epoch 100/100\n",
      "22/22 [==============================] - 0s 3ms/step - loss: 9.6875e-05 - accuracy: 1.0000\n",
      "10/10 [==============================] - 0s 6ms/step - loss: 0.8777 - accuracy: 0.9189\n",
      "[0.877666175365448, 0.9189189076423645]\n",
      "Classification Report: \n",
      "               precision    recall  f1-score   support\n",
      "\n",
      "           0       1.00      0.94      0.97     85296\n",
      "           1       0.03      0.96      0.05       147\n",
      "\n",
      "    accuracy                           0.94     85443\n",
      "   macro avg       0.51      0.95      0.51     85443\n",
      "weighted avg       1.00      0.94      0.97     85443\n",
      "\n"
     ]
    }
   ],
   "source": [
    "model = keras.Sequential([\n",
    "        keras.layers.Dense(28, input_dim=28, activation='relu'),\n",
    "        keras.layers.Dense(15, activation='relu'),\n",
    "        keras.layers.Dense(15, activation='relu'),\n",
    "        keras.layers.Dense(15, activation='relu'),\n",
    "        keras.layers.Dense(15, activation='relu'),\n",
    "        keras.layers.Dense(1, activation='sigmoid')\n",
    "    ])\n",
    "\n",
    "model.compile(optimizer='adam', loss='binary_crossentropy', metrics=['accuracy'])\n",
    "\n",
    "\n",
    "model.fit(X_train_undersample,y_train_undersample, epochs=100)\n",
    "\n",
    "print(model.evaluate(X_test_undersample, y_test_undersample))\n",
    "\n",
    "y_preds = model.predict(X_test.values)\n",
    "y_preds = np.round(y_preds)\n",
    "\n",
    "print(\"Classification Report: \\n\", classification_report(y_test, y_preds))"
   ]
  },
  {
   "cell_type": "markdown",
   "id": "28b14da0",
   "metadata": {
    "papermill": {
     "duration": 0.040629,
     "end_time": "2022-08-27T19:47:34.704076",
     "exception": false,
     "start_time": "2022-08-27T19:47:34.663447",
     "status": "completed"
    },
    "tags": []
   },
   "source": [
    "If find this notebook useful then please upvote it"
   ]
  }
 ],
 "metadata": {
  "kernelspec": {
   "display_name": "Python 3",
   "language": "python",
   "name": "python3"
  },
  "language_info": {
   "codemirror_mode": {
    "name": "ipython",
    "version": 3
   },
   "file_extension": ".py",
   "mimetype": "text/x-python",
   "name": "python",
   "nbconvert_exporter": "python",
   "pygments_lexer": "ipython3",
   "version": "3.7.12"
  },
  "papermill": {
   "default_parameters": {},
   "duration": 44.235057,
   "end_time": "2022-08-27T19:47:37.728266",
   "environment_variables": {},
   "exception": null,
   "input_path": "__notebook__.ipynb",
   "output_path": "__notebook__.ipynb",
   "parameters": {},
   "start_time": "2022-08-27T19:46:53.493209",
   "version": "2.3.4"
  }
 },
 "nbformat": 4,
 "nbformat_minor": 5
}
